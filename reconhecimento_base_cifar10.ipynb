{
  "nbformat": 4,
  "nbformat_minor": 0,
  "metadata": {
    "colab": {
      "provenance": [],
      "authorship_tag": "ABX9TyMpcoD/KNU/S9m1t3fzpGPw",
      "include_colab_link": true
    },
    "kernelspec": {
      "name": "python3",
      "display_name": "Python 3"
    },
    "language_info": {
      "name": "python"
    }
  },
  "cells": [
    {
      "cell_type": "markdown",
      "metadata": {
        "id": "view-in-github",
        "colab_type": "text"
      },
      "source": [
        "<a href=\"https://colab.research.google.com/github/williansmprimo/visao_computacional/blob/main/reconhecimento_base_cifar10.ipynb\" target=\"_parent\"><img src=\"https://colab.research.google.com/assets/colab-badge.svg\" alt=\"Open In Colab\"/></a>"
      ]
    },
    {
      "cell_type": "code",
      "execution_count": null,
      "metadata": {
        "id": "GM5vWLyOGP3K"
      },
      "outputs": [],
      "source": [
        "import tensorflow as tf\n",
        "import numpy as np\n",
        "import matplotlib.pyplot as plt\n",
        "from tensorflow.keras.datasets import cifar10\n",
        "%matplotlib inline"
      ]
    },
    {
      "cell_type": "code",
      "source": [
        "class_names = np.array(['airplane', 'automobile', 'bird', 'cat', 'deer', 'dog', 'frog', 'horse', 'ship', 'truck'])\n",
        "(x_train, y_train), (x_test, y_test) = cifar10.load_data()\n",
        "model_size = (x_train[0].shape[0], x_train[0].shape[1], x_train[0].shape[2])  #32, 32, 3\n",
        "layer_size = 1024\n",
        "out_size = class_names.shape[0]\n",
        "\n",
        "x_test_original = x_test\n",
        "x_train = x_train / 255\n",
        "x_test = x_test / 255\n",
        "model_size"
      ],
      "metadata": {
        "colab": {
          "base_uri": "https://localhost:8080/"
        },
        "id": "dbfvr77gGfS5",
        "outputId": "24605308-4f96-4c8f-8da5-b5eae5d4544d"
      },
      "execution_count": null,
      "outputs": [
        {
          "output_type": "execute_result",
          "data": {
            "text/plain": [
              "(32, 32, 3)"
            ]
          },
          "metadata": {},
          "execution_count": 37
        }
      ]
    },
    {
      "cell_type": "code",
      "source": [
        "from warnings import filters\n",
        "model = tf.keras.Sequential()\n",
        "model.add(tf.keras.layers.Conv2D(filters=32, kernel_size=3, padding='same', activation=tf.keras.activations.relu, input_shape=model_size))\n",
        "model.add(tf.keras.layers.MaxPool2D(pool_size=2, strides=2, padding='valid'))\n",
        "model.add(tf.keras.layers.Conv2D(filters=64, kernel_size=3, padding='same', activation=tf.keras.activations.relu, input_shape=model_size))\n",
        "model.add(tf.keras.layers.MaxPool2D(pool_size=2, strides=2, padding='valid'))\n",
        "model.add(tf.keras.layers.Flatten())\n",
        "model.add(tf.keras.layers.Dense(units=layer_size, activation=tf.keras.activations.relu))\n",
        "model.add(tf.keras.layers.Dropout(0.2))\n",
        "model.add(tf.keras.layers.Dense(units=out_size, activation=tf.keras.activations.softmax))\n",
        "model.compile(optimizer='adam', loss=tf.keras.losses.sparse_categorical_crossentropy, metrics='sparse_categorical_accuracy')\n",
        "model.summary()\n"
      ],
      "metadata": {
        "colab": {
          "base_uri": "https://localhost:8080/"
        },
        "id": "BCTPIaxAN3Pb",
        "outputId": "8ee1c0af-2029-4eef-a247-7a1514aa70ba"
      },
      "execution_count": null,
      "outputs": [
        {
          "output_type": "stream",
          "name": "stdout",
          "text": [
            "Model: \"sequential_5\"\n",
            "_________________________________________________________________\n",
            " Layer (type)                Output Shape              Param #   \n",
            "=================================================================\n",
            " conv2d_4 (Conv2D)           (None, 32, 32, 32)        896       \n",
            "                                                                 \n",
            " max_pooling2d_4 (MaxPoolin  (None, 16, 16, 32)        0         \n",
            " g2D)                                                            \n",
            "                                                                 \n",
            " conv2d_5 (Conv2D)           (None, 16, 16, 64)        18496     \n",
            "                                                                 \n",
            " max_pooling2d_5 (MaxPoolin  (None, 8, 8, 64)          0         \n",
            " g2D)                                                            \n",
            "                                                                 \n",
            " flatten (Flatten)           (None, 4096)              0         \n",
            "                                                                 \n",
            " dense_9 (Dense)             (None, 1024)              4195328   \n",
            "                                                                 \n",
            " dropout_4 (Dropout)         (None, 1024)              0         \n",
            "                                                                 \n",
            " dense_10 (Dense)            (None, 10)                10250     \n",
            "                                                                 \n",
            "=================================================================\n",
            "Total params: 4224970 (16.12 MB)\n",
            "Trainable params: 4224970 (16.12 MB)\n",
            "Non-trainable params: 0 (0.00 Byte)\n",
            "_________________________________________________________________\n"
          ]
        }
      ]
    },
    {
      "cell_type": "code",
      "source": [
        "model.fit(x_train, y_train, epochs=5)"
      ],
      "metadata": {
        "colab": {
          "base_uri": "https://localhost:8080/"
        },
        "id": "mlj6NjKZx3cC",
        "outputId": "a70714d4-660c-4fd2-8e0e-90dc4931b64e"
      },
      "execution_count": null,
      "outputs": [
        {
          "output_type": "stream",
          "name": "stdout",
          "text": [
            "Epoch 1/5\n",
            "1563/1563 [==============================] - 175s 111ms/step - loss: 1.3226 - sparse_categorical_accuracy: 0.5261\n",
            "Epoch 2/5\n",
            "1563/1563 [==============================] - 170s 109ms/step - loss: 0.9409 - sparse_categorical_accuracy: 0.6709\n",
            "Epoch 3/5\n",
            "1563/1563 [==============================] - 171s 109ms/step - loss: 0.7522 - sparse_categorical_accuracy: 0.7378\n",
            "Epoch 4/5\n",
            "1563/1563 [==============================] - 172s 110ms/step - loss: 0.5967 - sparse_categorical_accuracy: 0.7920\n",
            "Epoch 5/5\n",
            "1563/1563 [==============================] - 170s 109ms/step - loss: 0.4474 - sparse_categorical_accuracy: 0.8439\n"
          ]
        },
        {
          "output_type": "execute_result",
          "data": {
            "text/plain": [
              "<keras.src.callbacks.History at 0x7f10b75f9a20>"
            ]
          },
          "metadata": {},
          "execution_count": 41
        }
      ]
    },
    {
      "cell_type": "code",
      "source": [
        "model.evaluate(x_test, y_test)"
      ],
      "metadata": {
        "colab": {
          "base_uri": "https://localhost:8080/"
        },
        "id": "DZtnAzc91gly",
        "outputId": "258b39c5-ca3a-4dba-c040-da4b4ba0b2d8"
      },
      "execution_count": null,
      "outputs": [
        {
          "output_type": "stream",
          "name": "stdout",
          "text": [
            "313/313 [==============================] - 7s 23ms/step - loss: 0.9565 - sparse_categorical_accuracy: 0.7050\n"
          ]
        },
        {
          "output_type": "execute_result",
          "data": {
            "text/plain": [
              "[0.9564733505249023, 0.7049999833106995]"
            ]
          },
          "metadata": {},
          "execution_count": 42
        }
      ]
    },
    {
      "cell_type": "code",
      "source": [
        "i = 60"
      ],
      "metadata": {
        "id": "iJw64HUTb2ZH"
      },
      "execution_count": null,
      "outputs": []
    },
    {
      "cell_type": "code",
      "source": [
        "result = model.predict(x_test[i:i+1])\n",
        "plt.imshow(x_test_original[i])\n",
        "result_idx = np.argmax(result)\n",
        "print(f'result: {result_idx}, expected: {y_test[i][0]}, class: {class_names[result_idx]}')\n",
        "print()\n",
        "result"
      ],
      "metadata": {
        "colab": {
          "base_uri": "https://localhost:8080/",
          "height": 534
        },
        "id": "AmaBJ8OM1n69",
        "outputId": "9006dddd-355a-4c20-a170-078fde9033c9"
      },
      "execution_count": null,
      "outputs": [
        {
          "output_type": "stream",
          "name": "stdout",
          "text": [
            "1/1 [==============================] - 0s 39ms/step\n",
            "result: 7, expected: 7, class: horse\n",
            "\n"
          ]
        },
        {
          "output_type": "execute_result",
          "data": {
            "text/plain": [
              "array([[9.4235580e-14, 7.5929463e-16, 3.2653188e-12, 9.9163643e-11,\n",
              "        1.9596225e-04, 2.3132772e-08, 2.0983771e-14, 9.9980408e-01,\n",
              "        3.9378657e-14, 1.2182013e-14]], dtype=float32)"
            ]
          },
          "metadata": {},
          "execution_count": 59
        },
        {
          "output_type": "display_data",
          "data": {
            "text/plain": [
              "<Figure size 640x480 with 1 Axes>"
            ],
            "image/png": "[encoded data removed]"
          },
          "metadata": {}
        }
      ]
    },
    {
      "cell_type": "code",
      "source": [
        "test = np.array([[1, 2], [3, 4]])\n",
        "test[1:2]"
      ],
      "metadata": {
        "colab": {
          "base_uri": "https://localhost:8080/"
        },
        "id": "CdPc6HRbBZpz",
        "outputId": "bc16ca07-32f8-4b2b-f531-f737d5214363"
      },
      "execution_count": null,
      "outputs": [
        {
          "output_type": "execute_result",
          "data": {
            "text/plain": [
              "array([[3, 4]])"
            ]
          },
          "metadata": {},
          "execution_count": 24
        }
      ]
    }
  ]
}