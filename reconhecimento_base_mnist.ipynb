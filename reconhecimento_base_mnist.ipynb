{
  "cells": [
    {
      "cell_type": "markdown",
      "metadata": {
        "colab_type": "text",
        "id": "view-in-github"
      },
      "source": [
        "<a href=\"https://colab.research.google.com/github/williansmprimo/visao_computacional/blob/main/reconhecimento_base_cifar10.ipynb\" target=\"_parent\"><img src=\"https://colab.research.google.com/assets/colab-badge.svg\" alt=\"Open In Colab\"/></a>"
      ]
    },
    {
      "cell_type": "markdown",
      "metadata": {},
      "source": [
        "## Reconhecimento de Imagens utilizando a Base MNIST\n",
        "Neste trabalho é apresentado uso de Redes Neurais Multicamadas com a utilização de Camadas de Convolução"
      ]
    },
    {
      "cell_type": "code",
      "execution_count": 9,
      "metadata": {
        "id": "GM5vWLyOGP3K"
      },
      "outputs": [],
      "source": [
        "import tensorflow as tf\n",
        "import numpy as np\n",
        "import matplotlib.pyplot as plt\n",
        "from tensorflow.keras.datasets import mnist\n",
        "%matplotlib inline"
      ]
    },
    {
      "cell_type": "markdown",
      "metadata": {},
      "source": [
        "No techo de código a seguir é feita a separação da base em Treinamento e Teste e também a criação de um Array com as classes, no caso, o sdígitos de 0 a 9.\n",
        "Além disso, é feita a divisão dos valores corrspodentes a intensidade dos pixels por 255, com o objetivo de tornar as entradas no intervalo [0, 1], o que permite um ajuste do modelo mais rápido e eficiente."
      ]
    },
    {
      "cell_type": "code",
      "execution_count": 23,
      "metadata": {
        "colab": {
          "base_uri": "https://localhost:8080/"
        },
        "id": "dbfvr77gGfS5",
        "outputId": "24605308-4f96-4c8f-8da5-b5eae5d4544d"
      },
      "outputs": [
        {
          "data": {
            "text/plain": [
              "(28, 28, 1)"
            ]
          },
          "execution_count": 23,
          "metadata": {},
          "output_type": "execute_result"
        }
      ],
      "source": [
        "class_names = np.array(['0', '1', '2', '3', '4', '5', '6', '7', '8', '9'])\n",
        "(x_train, y_train), (x_test, y_test) = mnist.load_data()\n",
        "model_size = (x_train[0].shape[0], x_train[0].shape[1], 1)  #28, 28, 1\n",
        "layer_size = 1024\n",
        "out_size = class_names.shape[0]\n",
        "\n",
        "x_test_original = x_test\n",
        "x_train = x_train / 255\n",
        "x_test = x_test / 255\n",
        "model_size"
      ]
    },
    {
      "cell_type": "markdown",
      "metadata": {},
      "source": [
        "No código a seguir é feita a criação do modelo, onde são utilizadas a seguintes camadas:\n",
        "\n",
        "<b>Conv2D</b>: Camada de convolução 2D, onde é aplicado um filtro de do timo convolução na imagem.\n",
        "\n",
        "<b>MaxPool2D</b>: Essa camada funciona como uma espécie de compactação da entrada por meio da seleção do maior valor dentro de um intervalo.\n",
        "\n",
        "<b>Flatten</b>: Após as camadas de convolução, (imagem 28 x 28), é preciso juntar essa imagem em apenas um vetor para que a rede apresente uma única \"linha\" na saída.\n",
        "\n",
        "<b>Dense</b>: Após a etapa de convução e compactação, o resultado é passado para uma camada densa para ser realizado o processo de \"identificação\" das características.\n",
        "\n",
        "<b>Dropout</b>: Uma camada de \"remoção\" e \"adição\" de ruídos é adionada para auxiliar a rede na generalização. O processo de desligamento de certos neurônios funcionar como se estvesse sendo expandida a base de dados com imagens com partes \"cortadas\" ou com ruídos.\n",
        "\n",
        "<b>Dense (10)</b>: Ao fim é adicionada uma camada densa com 10 neurônios onde cada um representa um classe (ou dígito). Nesse caso, a resposta será um vetor com um vetor de 10 posições, com cada posição representando a probabilidade de a entrada corresponder a cada classe."
      ]
    },
    {
      "cell_type": "code",
      "execution_count": 24,
      "metadata": {
        "colab": {
          "base_uri": "https://localhost:8080/"
        },
        "id": "BCTPIaxAN3Pb",
        "outputId": "8ee1c0af-2029-4eef-a247-7a1514aa70ba"
      },
      "outputs": [
        {
          "name": "stdout",
          "output_type": "stream",
          "text": [
            "Model: \"sequential_6\"\n",
            "_________________________________________________________________\n",
            " Layer (type)                Output Shape              Param #   \n",
            "=================================================================\n",
            " conv2d_6 (Conv2D)           (None, 28, 28, 32)        320       \n",
            "                                                                 \n",
            " max_pooling2d_4 (MaxPoolin  (None, 14, 14, 32)        0         \n",
            " g2D)                                                            \n",
            "                                                                 \n",
            " conv2d_7 (Conv2D)           (None, 14, 14, 64)        18496     \n",
            "                                                                 \n",
            " max_pooling2d_5 (MaxPoolin  (None, 7, 7, 64)          0         \n",
            " g2D)                                                            \n",
            "                                                                 \n",
            " flatten_3 (Flatten)         (None, 3136)              0         \n",
            "                                                                 \n",
            " dense_6 (Dense)             (None, 1024)              3212288   \n",
            "                                                                 \n",
            " dropout_3 (Dropout)         (None, 1024)              0         \n",
            "                                                                 \n",
            " dense_7 (Dense)             (None, 10)                10250     \n",
            "                                                                 \n",
            "=================================================================\n",
            "Total params: 3241354 (12.36 MB)\n",
            "Trainable params: 3241354 (12.36 MB)\n",
            "Non-trainable params: 0 (0.00 Byte)\n",
            "_________________________________________________________________\n"
          ]
        }
      ],
      "source": [
        "from warnings import filters\n",
        "model = tf.keras.Sequential()\n",
        "model.add(tf.keras.layers.Conv2D(filters=32, kernel_size=3, padding='same', activation=tf.keras.activations.relu, input_shape=model_size))\n",
        "model.add(tf.keras.layers.MaxPool2D(pool_size=2, strides=2, padding='valid'))\n",
        "model.add(tf.keras.layers.Conv2D(filters=64, kernel_size=3, padding='same', activation=tf.keras.activations.relu, input_shape=model_size))\n",
        "model.add(tf.keras.layers.MaxPool2D(pool_size=2, strides=2, padding='valid'))\n",
        "model.add(tf.keras.layers.Flatten())\n",
        "model.add(tf.keras.layers.Dense(units=layer_size, activation=tf.keras.activations.relu))\n",
        "model.add(tf.keras.layers.Dropout(0.2))\n",
        "model.add(tf.keras.layers.Dense(units=out_size, activation=tf.keras.activations.softmax))\n",
        "model.compile(optimizer='adam', loss=tf.keras.losses.sparse_categorical_crossentropy, metrics='sparse_categorical_accuracy')\n",
        "model.summary()\n"
      ]
    },
    {
      "cell_type": "markdown",
      "metadata": {},
      "source": [
        "## Treinamento\n",
        "Para o treinamento, foram utilizada apenas 2 Épocas, para que fosse possível realizar o treinamento de forma mais rápida. Mesmo com a utilização de poucas épocas, percebe-se um bom resultado, acurácia de 98.8%."
      ]
    },
    {
      "cell_type": "code",
      "execution_count": 25,
      "metadata": {
        "colab": {
          "base_uri": "https://localhost:8080/"
        },
        "id": "mlj6NjKZx3cC",
        "outputId": "a70714d4-660c-4fd2-8e0e-90dc4931b64e"
      },
      "outputs": [
        {
          "name": "stdout",
          "output_type": "stream",
          "text": [
            "Epoch 1/2\n",
            "1875/1875 [==============================] - 99s 52ms/step - loss: 0.1090 - sparse_categorical_accuracy: 0.9659\n",
            "Epoch 2/2\n",
            "1875/1875 [==============================] - 97s 52ms/step - loss: 0.0387 - sparse_categorical_accuracy: 0.9883\n"
          ]
        },
        {
          "data": {
            "text/plain": [
              "<keras.src.callbacks.History at 0x172522370>"
            ]
          },
          "execution_count": 25,
          "metadata": {},
          "output_type": "execute_result"
        }
      ],
      "source": [
        "model.fit(x_train, y_train, epochs=2)"
      ]
    },
    {
      "cell_type": "code",
      "execution_count": 5,
      "metadata": {
        "colab": {
          "base_uri": "https://localhost:8080/"
        },
        "id": "DZtnAzc91gly",
        "outputId": "258b39c5-ca3a-4dba-c040-da4b4ba0b2d8"
      },
      "outputs": [
        {
          "name": "stdout",
          "output_type": "stream",
          "text": [
            "313/313 [==============================] - 2s 7ms/step - loss: 0.8594 - sparse_categorical_accuracy: 0.7274\n"
          ]
        },
        {
          "data": {
            "text/plain": [
              "[0.8594391345977783, 0.727400004863739]"
            ]
          },
          "execution_count": 5,
          "metadata": {},
          "output_type": "execute_result"
        }
      ],
      "source": [
        "model.evaluate(x_test, y_test)"
      ]
    },
    {
      "cell_type": "markdown",
      "metadata": {},
      "source": [
        "### Teste manual:\n",
        "Foi escolhida uma amostra aleatória na base para visualizar o resultado da classificação."
      ]
    },
    {
      "cell_type": "code",
      "execution_count": 34,
      "metadata": {
        "colab": {
          "base_uri": "https://localhost:8080/",
          "height": 534
        },
        "id": "AmaBJ8OM1n69",
        "outputId": "9006dddd-355a-4c20-a170-078fde9033c9"
      },
      "outputs": [
        {
          "name": "stdout",
          "output_type": "stream",
          "text": [
            "1/1 [==============================] - 0s 39ms/step\n",
            "result: 2, expected: 2, class: 2\n",
            "\n"
          ]
        },
        {
          "data": {
            "text/plain": [
              "array([[6.5681066e-10, 7.8652015e-08, 9.9999988e-01, 3.2499805e-09,\n",
              "        3.2947768e-12, 3.3656926e-16, 3.8680251e-13, 2.7620672e-08,\n",
              "        6.3810677e-09, 9.0919709e-11]], dtype=float32)"
            ]
          },
          "execution_count": 34,
          "metadata": {},
          "output_type": "execute_result"
        },
        {
          "data": {
            "image/png": "[encoded data removed]",
            "text/plain": [
              "<Figure size 640x480 with 1 Axes>"
            ]
          },
          "metadata": {},
          "output_type": "display_data"
        }
      ],
      "source": [
        "i = 35 # Foi escolhida uma amostra aleatória na base para visualizar o resultado da classificação\n",
        "result = model.predict(x_test[i:i+1])\n",
        "plt.imshow(x_test_original[i])\n",
        "result_idx = np.argmax(result)\n",
        "print(f'result: {result_idx}, expected: {y_test[i]}, class: {class_names[result_idx]}')\n",
        "print()\n",
        "result"
      ]
    }
  ],
  "metadata": {
    "colab": {
      "authorship_tag": "ABX9TyMpcoD/KNU/S9m1t3fzpGPw",
      "include_colab_link": true,
      "provenance": []
    },
    "kernelspec": {
      "display_name": "Python 3",
      "name": "python3"
    },
    "language_info": {
      "codemirror_mode": {
        "name": "ipython",
        "version": 3
      },
      "file_extension": ".py",
      "mimetype": "text/x-python",
      "name": "python",
      "nbconvert_exporter": "python",
      "pygments_lexer": "ipython3",
      "version": "3.8.2"
    }
  },
  "nbformat": 4,
  "nbformat_minor": 0
}
